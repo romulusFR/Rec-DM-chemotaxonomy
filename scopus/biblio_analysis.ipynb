{
 "cells": [
  {
   "cell_type": "markdown",
   "metadata": {},
   "source": [
    "# Analysis of chemo diversity on pharmacological and biological activities\n",
    "\n",
    "The [dataset](results/activities_2022-01-29_16-33-05.csv) is obtained from the Scopus downloader version 2.0 from the [base set](data/activities.csv) of chemical compounds and activities.\n",
    "\n",
    "**TODO** check:\n",
    "\n",
    "- <https://stackoverflow.com/questions/53927460/select-rows-in-pandas-multiindex-dataframe>\n",
    "- <https://pandas.pydata.org/pandas-docs/stable/user_guide/indexing.html#multiindex-query-syntax>\n"
   ]
  },
  {
   "cell_type": "markdown",
   "metadata": {},
   "source": [
    "## Loading data from Scopus\n",
    "\n",
    "### Boilerplate\n",
    "\n",
    "Some Python configuration.\n"
   ]
  },
  {
   "cell_type": "code",
   "execution_count": 1,
   "metadata": {},
   "outputs": [
    {
     "ename": "ImportError",
     "evalue": "cannot import name 'url' from 'django.conf.urls' (/home/romulus/.local/lib/python3.10/site-packages/django/conf/urls/__init__.py)",
     "output_type": "error",
     "traceback": [
      "\u001b[0;31m---------------------------------------------------------------------------\u001b[0m",
      "\u001b[0;31mImportError\u001b[0m                               Traceback (most recent call last)",
      "\u001b[1;32m/home/romulus/Documents/Rec-DM-chemotaxonomy/scopus/biblio_analysis.ipynb Cell 3'\u001b[0m in \u001b[0;36m<module>\u001b[0;34m\u001b[0m\n\u001b[1;32m     <a href='vscode-notebook-cell:/home/romulus/Documents/Rec-DM-chemotaxonomy/scopus/biblio_analysis.ipynb#ch0000002?line=11'>12</a>\u001b[0m \u001b[39mimport\u001b[39;00m \u001b[39mseaborn\u001b[39;00m \u001b[39mas\u001b[39;00m \u001b[39msns\u001b[39;00m\n\u001b[1;32m     <a href='vscode-notebook-cell:/home/romulus/Documents/Rec-DM-chemotaxonomy/scopus/biblio_analysis.ipynb#ch0000002?line=12'>13</a>\u001b[0m \u001b[39mimport\u001b[39;00m \u001b[39mmatplotlib\u001b[39;00m\u001b[39m.\u001b[39;00m\u001b[39mpyplot\u001b[39;00m \u001b[39mas\u001b[39;00m \u001b[39mplt\u001b[39;00m\n\u001b[0;32m---> <a href='vscode-notebook-cell:/home/romulus/Documents/Rec-DM-chemotaxonomy/scopus/biblio_analysis.ipynb#ch0000002?line=13'>14</a>\u001b[0m \u001b[39mimport\u001b[39;00m \u001b[39mholoviews\u001b[39;00m \u001b[39mas\u001b[39;00m \u001b[39mhv\u001b[39;00m\n\u001b[1;32m     <a href='vscode-notebook-cell:/home/romulus/Documents/Rec-DM-chemotaxonomy/scopus/biblio_analysis.ipynb#ch0000002?line=15'>16</a>\u001b[0m \u001b[39mimport\u001b[39;00m \u001b[39mbiblio_extractor\u001b[39;00m \u001b[39mas\u001b[39;00m \u001b[39mbex\u001b[39;00m\n\u001b[1;32m     <a href='vscode-notebook-cell:/home/romulus/Documents/Rec-DM-chemotaxonomy/scopus/biblio_analysis.ipynb#ch0000002?line=17'>18</a>\u001b[0m np\u001b[39m.\u001b[39mset_printoptions(precision\u001b[39m=\u001b[39m\u001b[39m4\u001b[39m, suppress\u001b[39m=\u001b[39m\u001b[39mTrue\u001b[39;00m)\n",
      "File \u001b[0;32m~/.local/lib/python3.10/site-packages/holoviews/__init__.py:12\u001b[0m, in \u001b[0;36m<module>\u001b[0;34m\u001b[0m\n\u001b[1;32m      <a href='file:///~/.local/lib/python3.10/site-packages/holoviews/__init__.py?line=7'>8</a>\u001b[0m __version__ \u001b[39m=\u001b[39m \u001b[39mstr\u001b[39m(param\u001b[39m.\u001b[39mversion\u001b[39m.\u001b[39mVersion(fpath\u001b[39m=\u001b[39m\u001b[39m__file__\u001b[39m, archive_commit\u001b[39m=\u001b[39m\u001b[39m\"\u001b[39m\u001b[39m$Format:\u001b[39m\u001b[39m%\u001b[39m\u001b[39mh$\u001b[39m\u001b[39m\"\u001b[39m,\n\u001b[1;32m      <a href='file:///~/.local/lib/python3.10/site-packages/holoviews/__init__.py?line=8'>9</a>\u001b[0m                                         reponame\u001b[39m=\u001b[39m\u001b[39m\"\u001b[39m\u001b[39mholoviews\u001b[39m\u001b[39m\"\u001b[39m))\n\u001b[1;32m     <a href='file:///~/.local/lib/python3.10/site-packages/holoviews/__init__.py?line=10'>11</a>\u001b[0m \u001b[39mfrom\u001b[39;00m \u001b[39m.\u001b[39;00m \u001b[39mimport\u001b[39;00m util                                       \u001b[39m# noqa (API import)\u001b[39;00m\n\u001b[0;32m---> <a href='file:///~/.local/lib/python3.10/site-packages/holoviews/__init__.py?line=11'>12</a>\u001b[0m \u001b[39mfrom\u001b[39;00m \u001b[39m.\u001b[39;00m\u001b[39mannotators\u001b[39;00m \u001b[39mimport\u001b[39;00m annotate                         \u001b[39m# noqa (API import)\u001b[39;00m\n\u001b[1;32m     <a href='file:///~/.local/lib/python3.10/site-packages/holoviews/__init__.py?line=12'>13</a>\u001b[0m \u001b[39mfrom\u001b[39;00m \u001b[39m.\u001b[39;00m\u001b[39mcore\u001b[39;00m \u001b[39mimport\u001b[39;00m archive, config                        \u001b[39m# noqa (API import)\u001b[39;00m\n\u001b[1;32m     <a href='file:///~/.local/lib/python3.10/site-packages/holoviews/__init__.py?line=13'>14</a>\u001b[0m \u001b[39mfrom\u001b[39;00m \u001b[39m.\u001b[39;00m\u001b[39mcore\u001b[39;00m\u001b[39m.\u001b[39;00m\u001b[39mboundingregion\u001b[39;00m \u001b[39mimport\u001b[39;00m BoundingBox             \u001b[39m# noqa (API import)\u001b[39;00m\n",
      "File \u001b[0;32m~/.local/lib/python3.10/site-packages/holoviews/annotators.py:10\u001b[0m, in \u001b[0;36m<module>\u001b[0;34m\u001b[0m\n\u001b[1;32m      <a href='file:///~/.local/lib/python3.10/site-packages/holoviews/annotators.py?line=5'>6</a>\u001b[0m \u001b[39mfrom\u001b[39;00m \u001b[39minspect\u001b[39;00m \u001b[39mimport\u001b[39;00m getmro\n\u001b[1;32m      <a href='file:///~/.local/lib/python3.10/site-packages/holoviews/annotators.py?line=7'>8</a>\u001b[0m \u001b[39mimport\u001b[39;00m \u001b[39mparam\u001b[39;00m\n\u001b[0;32m---> <a href='file:///~/.local/lib/python3.10/site-packages/holoviews/annotators.py?line=9'>10</a>\u001b[0m \u001b[39mfrom\u001b[39;00m \u001b[39mpanel\u001b[39;00m\u001b[39m.\u001b[39;00m\u001b[39mpane\u001b[39;00m \u001b[39mimport\u001b[39;00m PaneBase\n\u001b[1;32m     <a href='file:///~/.local/lib/python3.10/site-packages/holoviews/annotators.py?line=10'>11</a>\u001b[0m \u001b[39mfrom\u001b[39;00m \u001b[39mpanel\u001b[39;00m\u001b[39m.\u001b[39;00m\u001b[39mlayout\u001b[39;00m \u001b[39mimport\u001b[39;00m Row, Tabs\n\u001b[1;32m     <a href='file:///~/.local/lib/python3.10/site-packages/holoviews/annotators.py?line=11'>12</a>\u001b[0m \u001b[39mfrom\u001b[39;00m \u001b[39mpanel\u001b[39;00m\u001b[39m.\u001b[39;00m\u001b[39mutil\u001b[39;00m \u001b[39mimport\u001b[39;00m param_name\n",
      "File \u001b[0;32m~/.local/lib/python3.10/site-packages/panel/__init__.py:1\u001b[0m, in \u001b[0;36m<module>\u001b[0;34m\u001b[0m\n\u001b[0;32m----> <a href='file:///~/.local/lib/python3.10/site-packages/panel/__init__.py?line=0'>1</a>\u001b[0m \u001b[39mfrom\u001b[39;00m \u001b[39m.\u001b[39;00m \u001b[39mimport\u001b[39;00m layout \u001b[39m# noqa\u001b[39;00m\n\u001b[1;32m      <a href='file:///~/.local/lib/python3.10/site-packages/panel/__init__.py?line=1'>2</a>\u001b[0m \u001b[39mfrom\u001b[39;00m \u001b[39m.\u001b[39;00m \u001b[39mimport\u001b[39;00m links \u001b[39m# noqa\u001b[39;00m\n\u001b[1;32m      <a href='file:///~/.local/lib/python3.10/site-packages/panel/__init__.py?line=2'>3</a>\u001b[0m \u001b[39mfrom\u001b[39;00m \u001b[39m.\u001b[39;00m \u001b[39mimport\u001b[39;00m pane \u001b[39m# noqa\u001b[39;00m\n",
      "File \u001b[0;32m~/.local/lib/python3.10/site-packages/panel/layout/__init__.py:1\u001b[0m, in \u001b[0;36m<module>\u001b[0;34m\u001b[0m\n\u001b[0;32m----> <a href='file:///~/.local/lib/python3.10/site-packages/panel/layout/__init__.py?line=0'>1</a>\u001b[0m \u001b[39mfrom\u001b[39;00m \u001b[39m.\u001b[39;00m\u001b[39maccordion\u001b[39;00m \u001b[39mimport\u001b[39;00m Accordion \u001b[39m# noqa\u001b[39;00m\n\u001b[1;32m      <a href='file:///~/.local/lib/python3.10/site-packages/panel/layout/__init__.py?line=1'>2</a>\u001b[0m \u001b[39mfrom\u001b[39;00m \u001b[39m.\u001b[39;00m\u001b[39mbase\u001b[39;00m \u001b[39mimport\u001b[39;00m Column, ListLike, ListPanel, Panel, Row, WidgetBox \u001b[39m# noqa\u001b[39;00m\n\u001b[1;32m      <a href='file:///~/.local/lib/python3.10/site-packages/panel/layout/__init__.py?line=2'>3</a>\u001b[0m \u001b[39mfrom\u001b[39;00m \u001b[39m.\u001b[39;00m\u001b[39mcard\u001b[39;00m \u001b[39mimport\u001b[39;00m Card \u001b[39m# noqa\u001b[39;00m\n",
      "File \u001b[0;32m~/.local/lib/python3.10/site-packages/panel/layout/accordion.py:5\u001b[0m, in \u001b[0;36m<module>\u001b[0;34m\u001b[0m\n\u001b[1;32m      <a href='file:///~/.local/lib/python3.10/site-packages/panel/layout/accordion.py?line=0'>1</a>\u001b[0m \u001b[39mimport\u001b[39;00m \u001b[39mparam\u001b[39;00m\n\u001b[1;32m      <a href='file:///~/.local/lib/python3.10/site-packages/panel/layout/accordion.py?line=2'>3</a>\u001b[0m \u001b[39mfrom\u001b[39;00m \u001b[39mbokeh\u001b[39;00m\u001b[39m.\u001b[39;00m\u001b[39mmodels\u001b[39;00m \u001b[39mimport\u001b[39;00m Column \u001b[39mas\u001b[39;00m BkColumn, CustomJS\n\u001b[0;32m----> <a href='file:///~/.local/lib/python3.10/site-packages/panel/layout/accordion.py?line=4'>5</a>\u001b[0m \u001b[39mfrom\u001b[39;00m \u001b[39m.\u001b[39;00m\u001b[39mbase\u001b[39;00m \u001b[39mimport\u001b[39;00m NamedListPanel\n\u001b[1;32m      <a href='file:///~/.local/lib/python3.10/site-packages/panel/layout/accordion.py?line=5'>6</a>\u001b[0m \u001b[39mfrom\u001b[39;00m \u001b[39m.\u001b[39;00m\u001b[39mcard\u001b[39;00m \u001b[39mimport\u001b[39;00m Card\n\u001b[1;32m      <a href='file:///~/.local/lib/python3.10/site-packages/panel/layout/accordion.py?line=8'>9</a>\u001b[0m \u001b[39mclass\u001b[39;00m \u001b[39mAccordion\u001b[39;00m(NamedListPanel):\n",
      "File \u001b[0;32m~/.local/lib/python3.10/site-packages/panel/layout/base.py:11\u001b[0m, in \u001b[0;36m<module>\u001b[0;34m\u001b[0m\n\u001b[1;32m      <a href='file:///~/.local/lib/python3.10/site-packages/panel/layout/base.py?line=6'>7</a>\u001b[0m \u001b[39mimport\u001b[39;00m \u001b[39mparam\u001b[39;00m\n\u001b[1;32m      <a href='file:///~/.local/lib/python3.10/site-packages/panel/layout/base.py?line=8'>9</a>\u001b[0m \u001b[39mfrom\u001b[39;00m \u001b[39mbokeh\u001b[39;00m\u001b[39m.\u001b[39;00m\u001b[39mmodels\u001b[39;00m \u001b[39mimport\u001b[39;00m Column \u001b[39mas\u001b[39;00m BkColumn, Row \u001b[39mas\u001b[39;00m BkRow\n\u001b[0;32m---> <a href='file:///~/.local/lib/python3.10/site-packages/panel/layout/base.py?line=10'>11</a>\u001b[0m \u001b[39mfrom\u001b[39;00m \u001b[39m.\u001b[39;00m\u001b[39m.\u001b[39;00m\u001b[39mio\u001b[39;00m\u001b[39m.\u001b[39;00m\u001b[39mmodel\u001b[39;00m \u001b[39mimport\u001b[39;00m hold\n\u001b[1;32m     <a href='file:///~/.local/lib/python3.10/site-packages/panel/layout/base.py?line=11'>12</a>\u001b[0m \u001b[39mfrom\u001b[39;00m \u001b[39m.\u001b[39;00m\u001b[39m.\u001b[39;00m\u001b[39mio\u001b[39;00m\u001b[39m.\u001b[39;00m\u001b[39mstate\u001b[39;00m \u001b[39mimport\u001b[39;00m state\n\u001b[1;32m     <a href='file:///~/.local/lib/python3.10/site-packages/panel/layout/base.py?line=12'>13</a>\u001b[0m \u001b[39mfrom\u001b[39;00m \u001b[39m.\u001b[39;00m\u001b[39m.\u001b[39;00m\u001b[39mreactive\u001b[39;00m \u001b[39mimport\u001b[39;00m Reactive\n",
      "File \u001b[0;32m~/.local/lib/python3.10/site-packages/panel/io/__init__.py:28\u001b[0m, in \u001b[0;36m<module>\u001b[0;34m\u001b[0m\n\u001b[1;32m     <a href='file:///~/.local/lib/python3.10/site-packages/panel/io/__init__.py?line=24'>25</a>\u001b[0m     panel_logger\u001b[39m.\u001b[39msetLevel(config\u001b[39m.\u001b[39mlog_level)\n\u001b[1;32m     <a href='file:///~/.local/lib/python3.10/site-packages/panel/io/__init__.py?line=26'>27</a>\u001b[0m \u001b[39mif\u001b[39;00m \u001b[39m'\u001b[39m\u001b[39mdjango\u001b[39m\u001b[39m'\u001b[39m \u001b[39min\u001b[39;00m sys\u001b[39m.\u001b[39mmodules:\n\u001b[0;32m---> <a href='file:///~/.local/lib/python3.10/site-packages/panel/io/__init__.py?line=27'>28</a>\u001b[0m     \u001b[39mfrom\u001b[39;00m \u001b[39m.\u001b[39;00m \u001b[39mimport\u001b[39;00m django\n",
      "File \u001b[0;32m~/.local/lib/python3.10/site-packages/panel/io/django.py:3\u001b[0m, in \u001b[0;36m<module>\u001b[0;34m\u001b[0m\n\u001b[1;32m      <a href='file:///~/.local/lib/python3.10/site-packages/panel/io/django.py?line=0'>1</a>\u001b[0m \u001b[39mfrom\u001b[39;00m \u001b[39murllib\u001b[39;00m\u001b[39m.\u001b[39;00m\u001b[39mparse\u001b[39;00m \u001b[39mimport\u001b[39;00m urlparse\n\u001b[0;32m----> <a href='file:///~/.local/lib/python3.10/site-packages/panel/io/django.py?line=2'>3</a>\u001b[0m \u001b[39mfrom\u001b[39;00m \u001b[39mbokeh\u001b[39;00m\u001b[39m.\u001b[39;00m\u001b[39mserver\u001b[39;00m\u001b[39m.\u001b[39;00m\u001b[39mdjango\u001b[39;00m\u001b[39m.\u001b[39;00m\u001b[39mconsumers\u001b[39;00m \u001b[39mimport\u001b[39;00m DocConsumer, AutoloadJsConsumer\n\u001b[1;32m      <a href='file:///~/.local/lib/python3.10/site-packages/panel/io/django.py?line=4'>5</a>\u001b[0m \u001b[39mfrom\u001b[39;00m \u001b[39m.\u001b[39;00m\u001b[39mresources\u001b[39;00m \u001b[39mimport\u001b[39;00m Resources\n\u001b[1;32m      <a href='file:///~/.local/lib/python3.10/site-packages/panel/io/django.py?line=5'>6</a>\u001b[0m \u001b[39mfrom\u001b[39;00m \u001b[39m.\u001b[39;00m\u001b[39mserver\u001b[39;00m \u001b[39mimport\u001b[39;00m (\n\u001b[1;32m      <a href='file:///~/.local/lib/python3.10/site-packages/panel/io/django.py?line=6'>7</a>\u001b[0m     autoload_js_script, server_html_page_for_session\n\u001b[1;32m      <a href='file:///~/.local/lib/python3.10/site-packages/panel/io/django.py?line=7'>8</a>\u001b[0m )\n",
      "File \u001b[0;32m~/.local/lib/python3.10/site-packages/bokeh/server/django/__init__.py:5\u001b[0m, in \u001b[0;36m<module>\u001b[0;34m\u001b[0m\n\u001b[1;32m      <a href='file:///~/.local/lib/python3.10/site-packages/bokeh/server/django/__init__.py?line=1'>2</a>\u001b[0m \u001b[39mfrom\u001b[39;00m \u001b[39mbokeh\u001b[39;00m\u001b[39m.\u001b[39;00m\u001b[39mutil\u001b[39;00m\u001b[39m.\u001b[39;00m\u001b[39mdependencies\u001b[39;00m \u001b[39mimport\u001b[39;00m import_required\n\u001b[1;32m      <a href='file:///~/.local/lib/python3.10/site-packages/bokeh/server/django/__init__.py?line=3'>4</a>\u001b[0m \u001b[39m# Bokeh imports\u001b[39;00m\n\u001b[0;32m----> <a href='file:///~/.local/lib/python3.10/site-packages/bokeh/server/django/__init__.py?line=4'>5</a>\u001b[0m \u001b[39mfrom\u001b[39;00m \u001b[39m.\u001b[39;00m\u001b[39mapps\u001b[39;00m \u001b[39mimport\u001b[39;00m DjangoBokehConfig\n\u001b[1;32m      <a href='file:///~/.local/lib/python3.10/site-packages/bokeh/server/django/__init__.py?line=5'>6</a>\u001b[0m \u001b[39mfrom\u001b[39;00m \u001b[39m.\u001b[39;00m\u001b[39mrouting\u001b[39;00m \u001b[39mimport\u001b[39;00m autoload, directory, document\n\u001b[1;32m      <a href='file:///~/.local/lib/python3.10/site-packages/bokeh/server/django/__init__.py?line=6'>7</a>\u001b[0m \u001b[39mfrom\u001b[39;00m \u001b[39m.\u001b[39;00m\u001b[39mstatic\u001b[39;00m \u001b[39mimport\u001b[39;00m static_extensions\n",
      "File \u001b[0;32m~/.local/lib/python3.10/site-packages/bokeh/server/django/apps.py:29\u001b[0m, in \u001b[0;36m<module>\u001b[0;34m\u001b[0m\n\u001b[1;32m     <a href='file:///~/.local/lib/python3.10/site-packages/bokeh/server/django/apps.py?line=25'>26</a>\u001b[0m \u001b[39mfrom\u001b[39;00m \u001b[39mdjango\u001b[39;00m\u001b[39m.\u001b[39;00m\u001b[39mconf\u001b[39;00m \u001b[39mimport\u001b[39;00m settings\n\u001b[1;32m     <a href='file:///~/.local/lib/python3.10/site-packages/bokeh/server/django/apps.py?line=27'>28</a>\u001b[0m \u001b[39m# Bokeh imports\u001b[39;00m\n\u001b[0;32m---> <a href='file:///~/.local/lib/python3.10/site-packages/bokeh/server/django/apps.py?line=28'>29</a>\u001b[0m \u001b[39mfrom\u001b[39;00m \u001b[39m.\u001b[39;00m\u001b[39mrouting\u001b[39;00m \u001b[39mimport\u001b[39;00m Routing, RoutingConfiguration\n\u001b[1;32m     <a href='file:///~/.local/lib/python3.10/site-packages/bokeh/server/django/apps.py?line=30'>31</a>\u001b[0m \u001b[39m#-----------------------------------------------------------------------------\u001b[39;00m\n\u001b[1;32m     <a href='file:///~/.local/lib/python3.10/site-packages/bokeh/server/django/apps.py?line=31'>32</a>\u001b[0m \u001b[39m# Globals and constants\u001b[39;00m\n\u001b[1;32m     <a href='file:///~/.local/lib/python3.10/site-packages/bokeh/server/django/apps.py?line=32'>33</a>\u001b[0m \u001b[39m#-----------------------------------------------------------------------------\u001b[39;00m\n\u001b[1;32m     <a href='file:///~/.local/lib/python3.10/site-packages/bokeh/server/django/apps.py?line=34'>35</a>\u001b[0m __all__ \u001b[39m=\u001b[39m (\n\u001b[1;32m     <a href='file:///~/.local/lib/python3.10/site-packages/bokeh/server/django/apps.py?line=35'>36</a>\u001b[0m     \u001b[39m'\u001b[39m\u001b[39mDjangoBokehConfig\u001b[39m\u001b[39m'\u001b[39m,\n\u001b[1;32m     <a href='file:///~/.local/lib/python3.10/site-packages/bokeh/server/django/apps.py?line=36'>37</a>\u001b[0m )\n",
      "File \u001b[0;32m~/.local/lib/python3.10/site-packages/bokeh/server/django/routing.py:27\u001b[0m, in \u001b[0;36m<module>\u001b[0;34m\u001b[0m\n\u001b[1;32m     <a href='file:///~/.local/lib/python3.10/site-packages/bokeh/server/django/routing.py?line=24'>25</a>\u001b[0m \u001b[39m# External imports\u001b[39;00m\n\u001b[1;32m     <a href='file:///~/.local/lib/python3.10/site-packages/bokeh/server/django/routing.py?line=25'>26</a>\u001b[0m \u001b[39mfrom\u001b[39;00m \u001b[39mchannels\u001b[39;00m\u001b[39m.\u001b[39;00m\u001b[39mhttp\u001b[39;00m \u001b[39mimport\u001b[39;00m AsgiHandler\n\u001b[0;32m---> <a href='file:///~/.local/lib/python3.10/site-packages/bokeh/server/django/routing.py?line=26'>27</a>\u001b[0m \u001b[39mfrom\u001b[39;00m \u001b[39mdjango\u001b[39;00m\u001b[39m.\u001b[39;00m\u001b[39mconf\u001b[39;00m\u001b[39m.\u001b[39;00m\u001b[39murls\u001b[39;00m \u001b[39mimport\u001b[39;00m url\n\u001b[1;32m     <a href='file:///~/.local/lib/python3.10/site-packages/bokeh/server/django/routing.py?line=27'>28</a>\u001b[0m \u001b[39mfrom\u001b[39;00m \u001b[39mdjango\u001b[39;00m\u001b[39m.\u001b[39;00m\u001b[39murls\u001b[39;00m\u001b[39m.\u001b[39;00m\u001b[39mresolvers\u001b[39;00m \u001b[39mimport\u001b[39;00m URLPattern\n\u001b[1;32m     <a href='file:///~/.local/lib/python3.10/site-packages/bokeh/server/django/routing.py?line=29'>30</a>\u001b[0m \u001b[39m# Bokeh imports\u001b[39;00m\n",
      "\u001b[0;31mImportError\u001b[0m: cannot import name 'url' from 'django.conf.urls' (/home/romulus/.local/lib/python3.10/site-packages/django/conf/urls/__init__.py)"
     ]
    }
   ],
   "source": [
    "from pathlib import Path\n",
    "from itertools import islice, product\n",
    "from pprint import pprint\n",
    "\n",
    "import pandas as pd\n",
    "import numpy as np\n",
    "from scipy import linalg\n",
    "\n",
    "import prince\n",
    "# BUG !\n",
    "\n",
    "import seaborn as sns\n",
    "import matplotlib.pyplot as plt\n",
    "import holoviews as hv\n",
    "\n",
    "import biblio_extractor as bex\n",
    "\n",
    "np.set_printoptions(precision=4, suppress=True)\n",
    "pd.set_option(\"display.max_columns\", 10)\n",
    "pd.set_option(\"display.max_rows\", 20)\n",
    "pd.set_option(\"display.min_rows\", 10)\n",
    "# pd.set_option('display.expand_frame_repr', False)\n",
    "\n",
    "DATASET_FILENAME = Path(\"results/activities_2022-01-29_16-33-05.csv\")\n"
   ]
  },
  {
   "cell_type": "markdown",
   "metadata": {},
   "source": [
    "# Loading the CSV file\n",
    "\n",
    "Now, we load the dataset we'll use in this Notebook. It is generated using [our tool](biblio_extractor.py) in the same repository.\n",
    "The dataset is a 106 \\* 66 matrix, with rows and columns indexed by three levels (using Pandas's `MultiIndex`) as follows:\n",
    "\n",
    "- level 0 is _class_ (chemical, biological or pharmacological class)\n",
    "- level 1 is _name_ (compound or activity, a.k.a. keyword)\n",
    "- level 2 is _kind_ (either _w/o_ for _without_ or _w/_ for _with_)\n",
    "\n",
    "The matrix is indexed by _two_ disjoint finite sets of keywords:\n",
    "\n",
    "- **rows**: a set of 53 (chemical) coumpounds = {acridine, triterpene, ...}\n",
    "- **columns**: a set of 33 (biological, pharmacological) activities = {germination, cytotoxicity, ...}\n",
    "\n",
    "An example is shown below, restricted to two compounds and two activities.\n",
    "Note that this is **not** an extract of the whole dataset, the (w/o, w/o) cells being smaller here.\n",
    "\n",
    "|                   |            |     | germination | germination | cytotoxicity | cytotoxicity |\n",
    "| ----------------- | ---------- | --- | ----------- | ----------- | ------------ | ------------ |\n",
    "|                   |            |     | allelopathy | allelopathy | pharmaco     | pharmaco     |\n",
    "|                   |            |     | w/o         | w/          | w/o          | w/           |\n",
    "| alkaloid          | acridine   | w/o | 2100        | 32          | 28           | 2104         |\n",
    "| alkaloid          | acridine   | w/  | 1294        | 11          | 9            | 1296         |\n",
    "| terpenoid/terpene | triterpene | w/o | 1283        | 11          | 9            | 1285         |\n",
    "| terpenoid/terpene | triterpene | w/  | 2111        | 32          | 28           | 2115         |\n",
    "\n",
    "Let $M$ be this matrix, and for each couple of keywords made of a compound and and activity, call $M_{ij} = (c_i, a_j)$, the **ij confusion submatrix**.\n",
    "Assume that $M_ij$ is of the form :\n",
    "\\begin{bmatrix}\n",
    "U & V\\\\\n",
    "X & Y\n",
    "\\end{bmatrix}\n",
    "\n",
    "Where :\n",
    "\n",
    "- $U = (\\text{w/o}, \\text{w/o})$ is the number of papers that have **neither** the $c_i$ compound **nor** the $a_j$ activity;\n",
    "- $V = (\\text{w/o}, \\text{w/})$ is the number of papers that have the $a_j$ activity but **not** the $c_i$ compound;\n",
    "- $X = (\\text{w/}, \\text{w/o})$ is the number of papers that have the $c_i$ compound but **not** the $a_j$ activity;\n",
    "- $Y = (\\text{w/}, \\text{w/})$ is the number of papers that have **both** the $c_i$ compound **and** the $a_j$ activity.\n",
    "\n",
    "We avoid the open world hypothesis by restricting the analysis to the paper in the domain $D$,\n",
    "which is the set of papers that have at least one compound and one activity.\n",
    "By construction:\n",
    "\n",
    "- $U + V$ and $X + Y$ are constants for each $c_i$ (whatever the choice of $a_j$) and is the total number of papers in $D$ with the $c_i$ comppound;\n",
    "- $U + X$ and $V + Y$ are constants for each $a_j$ (whatever the choice of $c_i$) and is the total number of papers in $D$ with the $a_j$ activity.\n",
    "- thus each confusion matrix $M_{ij}$ is such that $U + V + X + Y = |D|$ where $|D|$ is _the total number of paper_ under scrutiny.\n"
   ]
  },
  {
   "cell_type": "code",
   "execution_count": null,
   "metadata": {},
   "outputs": [],
   "source": [
    "dataset = pd.read_csv(DATASET_FILENAME, index_col=[0, 1, 2], header=[0, 1, 2])\n",
    "# dataset.index.names = [\"class\", \"name\", \"with\"]\n",
    "# dataset.columns.names = [\"class\", \"name\", \"with\"]\n",
    "\n",
    "all_compounds = set(dataset.index.get_level_values(1))\n",
    "all_activities = set(dataset.columns.get_level_values(1))\n",
    "\n",
    "dataset"
   ]
  },
  {
   "cell_type": "markdown",
   "metadata": {},
   "source": [
    "We can extract the \"old\" 53\\*33 matrix we use in the version version of this software, where we had only the with/with queries.\n",
    "In our small running example, that would be:\n",
    "\n",
    "|                   |            | germination | cytotoxicity |\n",
    "| ----------------- | ---------- | ----------- | ------------ |\n",
    "|                   |            | allelopathy | pharmaco     |\n",
    "| alkaloid          | acridine   | 11          | 1296         |\n",
    "| terpenoid/terpene | triterpene | 32          | 2115         |\n"
   ]
  },
  {
   "cell_type": "code",
   "execution_count": null,
   "metadata": {},
   "outputs": [],
   "source": [
    "with_with_matrix = dataset.xs(\"w/\", level=2).xs(\"w/\", level=2, axis=1)\n",
    "with_with_matrix"
   ]
  },
  {
   "cell_type": "markdown",
   "metadata": {},
   "source": [
    "We do some sanity checks explained earlier :\n",
    "\n",
    "- the name (level 2 of rows/columns) are _unique_\n",
    "- the sum of each confusion submatrixes is _constant_ and is the total number of papers $|D|$, here 243 964.\n"
   ]
  },
  {
   "cell_type": "code",
   "execution_count": null,
   "metadata": {},
   "outputs": [],
   "source": [
    "# sanity check #1\n",
    "assert dataset.shape == (2 * len(all_compounds), 2 * len(all_activities))\n",
    "dataset\n",
    "\n",
    "\n",
    "# sanity check : group by summing on level 2 on both rows and cols produce a matrix of constants : the number of papers\n",
    "submatrix_sum = dataset.groupby(level=1).sum().groupby(level=1, axis=1).sum()\n",
    "number_of_papers = np.unique(submatrix_sum.values)\n",
    "# if the Scopus collection did not evolve during while querying\n",
    "assert len(number_of_papers) == 1\n",
    "\n",
    "number_of_papers = number_of_papers[0]\n",
    "print(f\"The domain contains {number_of_papers} papers\")\n",
    "\n",
    "with_with_total = with_with_matrix.values.sum()\n",
    "print(\n",
    "    f\"Total number of positive/positive occurrences is {with_with_total} for {number_of_papers} papers (average={with_with_total/number_of_papers})\"\n",
    ")\n"
   ]
  },
  {
   "cell_type": "markdown",
   "metadata": {},
   "source": [
    "Lets illustrate the content of this table. The **2 by 2 confusion submatrix** about _acridine_ and _cytotoxicity_ is as follows.\n"
   ]
  },
  {
   "cell_type": "code",
   "execution_count": null,
   "metadata": {},
   "outputs": [],
   "source": [
    "acridine_cytotoxicity_submatrix = dataset.loc[\n",
    "    (\n",
    "        \"alkaloid\",\n",
    "        \"acridine\",\n",
    "    ),\n",
    "    (\n",
    "        \"pharmaco\",\n",
    "        \"cytotoxicity\",\n",
    "    ),\n",
    "]\n",
    "print(f\"Among {number_of_papers} papers, there are\")\n",
    "for i, j in product(bex.SELECTORS, bex.SELECTORS):\n",
    "    print(f\"{acridine_cytotoxicity_submatrix.loc[i,j]} papers {i} acridine and {j} cytotoxicity in their keywords\")\n",
    "\n",
    "print(\"The acridine and cytotoxicity confusion matrix is as follows\")\n",
    "acridine_cytotoxicity_submatrix\n"
   ]
  },
  {
   "cell_type": "markdown",
   "metadata": {},
   "source": [
    "We compute marginal sums on rows and cols and add them to the orginial dataset.\n",
    "\n",
    "**NOTE** we actually should do the other way around, that is to query Scopue for margin and for all (w/, w/) cells and _then_ fill in the missing ones."
   ]
  },
  {
   "cell_type": "code",
   "execution_count": null,
   "metadata": {},
   "outputs": [],
   "source": [
    "margin_idx = (bex.CLASS_SYMB, bex.MARGIN_SYMB, bex.SELECTORS[1])\n",
    "margin_cols = dataset.groupby(level=1).sum().drop_duplicates().reset_index(drop=True)\n",
    "margin_cols.index = pd.MultiIndex.from_tuples([margin_idx])\n",
    "\n",
    "margin_rows = dataset.groupby(level=1, axis=1).sum().iloc[:, 0]\n",
    "margin_rows.name = margin_idx\n",
    "margin_rows = pd.DataFrame(margin_rows)\n",
    "\n",
    "dataset_margins = dataset.copy()\n",
    "dataset_margins[margin_idx] = margin_rows\n",
    "dataset_margins = pd.concat([dataset_margins, margin_cols]).fillna(number_of_papers).astype(int)\n",
    "\n",
    "#TODO add som styling to margins\n",
    "dataset_margins\n"
   ]
  },
  {
   "cell_type": "code",
   "execution_count": null,
   "metadata": {},
   "outputs": [],
   "source": [
    "# see https://en.wikipedia.org/wiki/Confusion_matrix\n",
    "# see https://en.wikipedia.org/wiki/Phi_coefficient\n",
    "\n",
    "\n",
    "\n",
    "def fowlkes_mallows(arr):\n",
    "    arr = arr.reshape(2, 2)\n",
    "    return np.sqrt(arr[1][1] / (arr[1][1] + arr[0][1]) * arr[1][1] / (arr[1][1] + arr[1][0]))\n",
    "\n",
    "\n",
    "def acc(arr):\n",
    "    arr = arr.reshape(2, 2)\n",
    "    return (arr[1][1] + arr[0][0]) / (arr.sum())\n",
    "\n",
    "\n",
    "def x_score(arr):\n",
    "    arr = arr.reshape(2, 2)\n",
    "    return (arr[1][1] + arr[0][0] - arr[0][1] - arr[1][0]) / (arr.sum())\n",
    "\n",
    "def original(arr):\n",
    "    arr = arr.reshape(2, 2)\n",
    "    return arr[1][1]  / (arr.sum())\n",
    "\n",
    "\n",
    "print(fowlkes_mallows(acridine_cytotoxicity_submatrix.values))\n",
    "print(acc(acridine_cytotoxicity_submatrix.values))\n",
    "print(x_score(acridine_cytotoxicity_submatrix.values))\n",
    "print(original(acridine_cytotoxicity_submatrix.values))\n",
    "acridine_cytotoxicity_submatrix\n"
   ]
  },
  {
   "cell_type": "code",
   "execution_count": null,
   "metadata": {},
   "outputs": [],
   "source": [
    "# redimension the values to a 4D array\n",
    "C, A = len(all_compounds), len(all_activities)\n",
    "print(C, A)\n",
    "M = dataset.values.reshape((C, 2, A, 2))\n",
    "M = np.moveaxis(M, 1, -2)\n",
    "\n",
    "# M.sum(axis=(2,3)) or similarly\n",
    "np.sum(M, axis=(2, 3), keepdims=False)\n",
    "\n"
   ]
  },
  {
   "cell_type": "markdown",
   "metadata": {},
   "source": [
    "We obtain the same as submatrix_sum\n"
   ]
  },
  {
   "cell_type": "code",
   "execution_count": null,
   "metadata": {},
   "outputs": [],
   "source": [
    "# 1D is easier for apply_along_axis\n",
    "M2 = M.reshape((C * A, 4))\n",
    "\n",
    "print(M2[0])\n",
    "print(M[0, 0])\n",
    "print(f\"{acc(M[0, 0]) = }\")\n",
    "print(f\"{x_score(M[0, 0]) = }\")\n",
    "print(f\"{fowlkes_mallows(M[0, 0]) = }\")\n",
    "print(\"--\")\n",
    "\n",
    "confused = {}\n",
    "for fnct in [original, acc, x_score, fowlkes_mallows]:\n",
    "    confused[fnct.__name__] = np.apply_along_axis(fnct, 1, M2).reshape((C, A))\n",
    "\n",
    "    print(\n",
    "        f\"{fnct.__name__}:\\n min={confused[fnct.__name__].min():.3f} mean={confused[fnct.__name__].mean():.3f} max={confused[fnct.__name__].max():.3f} std={confused[fnct.__name__].std():.3f}\"\n",
    "    )\n",
    "# np.apply_over_axes(f, M2, axes=1)\n",
    "# confused\n"
   ]
  },
  {
   "cell_type": "code",
   "execution_count": null,
   "metadata": {},
   "outputs": [],
   "source": [
    "# TODO : les couleurs par classes\n",
    "\n",
    "ca = prince.CA(n_components=2, n_iter=5, copy=True, check_input=True, engine=\"auto\", random_state=42, benzecri=False)\n",
    "\n",
    "confused_df = pd.DataFrame(100 * confused)\n",
    "confused_df.index = with_with_matrix.index  #  set([(x,y) for x,y,_ in dataset.index.to_list()])\n",
    "confused_df.columns = with_with_matrix.columns\n",
    "# confused_df.values = confused\n",
    "# confused_df\n",
    "\n",
    "\n",
    "/!\\ HERE /!\\\n",
    "\n",
    "for (df, name) in confused: # [(with_with_matrix, \"Original\"), (confused_df, \"Confused\")]:\n",
    "    print(f\"-------{name}-------\")\n",
    "    ca = ca.fit(df)\n",
    "\n",
    "    # ca.row_coordinates(df)[:10]\n",
    "    # ca.column_coordinates(df)[:10]\n",
    "\n",
    "    pprint(ca.explained_inertia_)\n",
    "    pprint(ca.col_masses_[:10])\n",
    "    pprint(ca.eigenvalues_)\n",
    "    pprint(ca.total_inertia_)\n",
    "\n",
    "    ax = ca.plot_coordinates(\n",
    "        X=confused_df,\n",
    "        ax=None,\n",
    "        figsize=(12, 12),\n",
    "        x_component=0,\n",
    "        y_component=1,\n",
    "        show_row_labels=True,\n",
    "        show_col_labels=True,\n",
    "    )\n",
    "    plt.show()\n"
   ]
  }
 ],
 "metadata": {
  "interpreter": {
   "hash": "5d240ba0dc525c389faa33f5dcce5b4f32b6d6aa6d70d6d2dd929bd2b09ab69f"
  },
  "kernelspec": {
   "display_name": "Python 3.10.1 64-bit",
   "language": "python",
   "name": "python3"
  },
  "language_info": {
   "codemirror_mode": {
    "name": "ipython",
    "version": 3
   },
   "file_extension": ".py",
   "mimetype": "text/x-python",
   "name": "python",
   "nbconvert_exporter": "python",
   "pygments_lexer": "ipython3",
   "version": "3.10.2"
  },
  "orig_nbformat": 4
 },
 "nbformat": 4,
 "nbformat_minor": 2
}
